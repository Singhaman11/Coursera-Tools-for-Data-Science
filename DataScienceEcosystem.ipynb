{
  "metadata": {
    "kernelspec": {
      "name": "python",
      "display_name": "Python (Pyodide)",
      "language": "python"
    },
    "language_info": {
      "codemirror_mode": {
        "name": "python",
        "version": 3
      },
      "file_extension": ".py",
      "mimetype": "text/x-python",
      "name": "python",
      "nbconvert_exporter": "python",
      "pygments_lexer": "ipython3",
      "version": "3.8"
    }
  },
  "nbformat_minor": 5,
  "nbformat": 4,
  "cells": [
    {
      "id": "894b20b8-8461-4c7d-be0c-4ab1bc3764e0",
      "cell_type": "markdown",
      "source": "# Data Science Tools and Ecosystem",
      "metadata": {}
    },
    {
      "id": "1c864e0d-a549-4163-8368-cc0c9cee4024",
      "cell_type": "markdown",
      "source": "In this notebook, Data Science Tools and Ecosystems are summarized.",
      "metadata": {}
    },
    {
      "id": "53a7f5bf-2169-43ca-bed6-dd26112c9c2c",
      "cell_type": "markdown",
      "source": "**Objectives:**\n- List popular languages for Data Science  \n- Identify commonly used libraries for Data Science  \n- Summarize open-source tools and environments used in Data Science  \n- Demonstrate simple arithmetic operations in Python  \n- Practice creating and structuring Jupyter Notebooks with Markdown and code cells  ",
      "metadata": {}
    },
    {
      "id": "1a150b78-6cab-4535-be65-762d9a12b01a",
      "cell_type": "markdown",
      "source": "Some of the popular languages that Data Scientists use are:\n1. Python\n2. R\n3. SQL",
      "metadata": {}
    },
    {
      "id": "ebfdb8e0-540c-4b86-9776-930dd377ce94",
      "cell_type": "markdown",
      "source": "Some of the commonly used libraries used by Data Scientists include:\n1. Matplotlib\n2. NumPy\n3. Pandas\n4. TensorFlow",
      "metadata": {}
    },
    {
      "id": "c552b17f-7a6f-4e83-b66f-7dfa98ce2b31",
      "cell_type": "markdown",
      "source": "| Data Science Tools |\n| ------------------ |\n| Jupyter Notebooks |\n| RStudio |\n| GitHub |",
      "metadata": {}
    },
    {
      "id": "cf2c855a-3b67-4975-b867-6cc451100d39",
      "cell_type": "markdown",
      "source": "### Below are a few examples of evaluating arithmetic expressions in Python",
      "metadata": {}
    },
    {
      "id": "9ec80978-5f12-42ae-bbc7-3625f2f56d97",
      "cell_type": "code",
      "source": "# This is a simple arithmetic expression to multiply then add integers.\n(3*4)+5",
      "metadata": {
        "trusted": true
      },
      "outputs": [
        {
          "execution_count": 1,
          "output_type": "execute_result",
          "data": {
            "text/plain": "17"
          },
          "metadata": {}
        }
      ],
      "execution_count": 1
    },
    {
      "id": "c17251fa-b1cb-4da4-a689-9a9066af8119",
      "cell_type": "code",
      "source": "# This will convert 200 minutes to hours by divding by 60\n200 / 60",
      "metadata": {
        "trusted": true
      },
      "outputs": [
        {
          "execution_count": 4,
          "output_type": "execute_result",
          "data": {
            "text/plain": "3.3333333333333335"
          },
          "metadata": {}
        }
      ],
      "execution_count": 4
    },
    {
      "id": "fff563e4-c743-4c7b-98dc-1ab2518d2dcf",
      "cell_type": "markdown",
      "source": "## Author\nAman Singh",
      "metadata": {}
    }
  ]
}